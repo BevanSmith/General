{
 "cells": [
  {
   "cell_type": "markdown",
   "metadata": {},
   "source": [
    "#  Running average\n",
    "The aim of this code is to calculate the average value of a series of numbers.  However, this is a running average, where new values are input over time and the code will calculate only the N latest values in the series of numbers.\n",
    "For example is N = 3, then once the list gets larger than 3, it will exclude the oldest value and include only the most recent 3 values."
   ]
  },
  {
   "cell_type": "code",
   "execution_count": 1,
   "metadata": {},
   "outputs": [],
   "source": [
    "import numpy as np\n",
    "import pandas as pd"
   ]
  },
  {
   "cell_type": "markdown",
   "metadata": {},
   "source": [
    " Below I start off with a weight list initial value = [25].  This means my initial list of values consists of only one \n",
    " data point.  I then determine how many days I want the average of, in this case 2.  If the length of the array is less than\n",
    " the number of days, then the average weight is simply the sum of the values in the np.array divided by the length of the array.\n",
    "\n",
    " However, once the array gets longer than DAYS, then it will only calculate the average of the most recent values.\n",
    " Note that the newest values are inserted in the right side of the WEIGHT list.\n",
    " \n",
    " Note in the example below, the most recent values 100 and 50 should give an average of 75, which it does.\n"
   ]
  },
  {
   "cell_type": "code",
   "execution_count": 66,
   "metadata": {
    "scrolled": true
   },
   "outputs": [
    {
     "name": "stdout",
     "output_type": "stream",
     "text": [
      "4\n",
      "ave_weight <5  is 56.25\n"
     ]
    }
   ],
   "source": [
    "weight = [25,50,50,100]\n",
    "weight = np.array(weight)\n",
    "days = 5\n",
    "print(len(weight))\n",
    "if len(weight) <= days:\n",
    "    ave_weight = np.sum(weight)/len(weight)\n",
    "    print('ave_weight <{}  is {}' .format(days,ave_weight))\n",
    "elif len(weight) > days:\n",
    "    ave_weight2 = np.sum(weight[-days:])/len(weight[-days:])\n",
    "    print('ave_weight >{}  is {}' .format(days,ave_weight2))\n",
    "    "
   ]
  },
  {
   "cell_type": "markdown",
   "metadata": {},
   "source": [
    "Below I have created a function that takes in the newest data point and also the number of days over which to average the data."
   ]
  },
  {
   "cell_type": "code",
   "execution_count": 86,
   "metadata": {
    "scrolled": true
   },
   "outputs": [],
   "source": [
    "weights = []\n",
    "def running_average(new_weight, units):\n",
    "    weights.append(new_weight)\n",
    "    print(weights)\n",
    "    print(len(weights))\n",
    "    if len(weights) <= units:\n",
    "        ave_weight = np.sum(weights)/len(weights)\n",
    "        print('The ave weight when the number of data points is less than {}  is {}' .format(units,ave_weight))\n",
    "    elif len(weights) > units:\n",
    "        ave_weight2 = np.sum(weights[-units:])/len(weights[-units:])\n",
    "        print('The ave weight when the number of data points is greater than {}  is {}' .format(units, ave_weight2))\n"
   ]
  },
  {
   "cell_type": "code",
   "execution_count": 89,
   "metadata": {},
   "outputs": [
    {
     "name": "stdout",
     "output_type": "stream",
     "text": [
      "[65, 65, 75]\n",
      "3\n",
      "The ave weight when the number of data points is greater than 2  is 70.0\n"
     ]
    }
   ],
   "source": [
    "running_average(75,2)"
   ]
  }
 ],
 "metadata": {
  "kernelspec": {
   "display_name": "Python 3",
   "language": "python",
   "name": "python3"
  },
  "language_info": {
   "codemirror_mode": {
    "name": "ipython",
    "version": 3
   },
   "file_extension": ".py",
   "mimetype": "text/x-python",
   "name": "python",
   "nbconvert_exporter": "python",
   "pygments_lexer": "ipython3",
   "version": "3.6.5"
  }
 },
 "nbformat": 4,
 "nbformat_minor": 2
}
