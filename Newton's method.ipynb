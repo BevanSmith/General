{
 "cells": [
  {
   "cell_type": "markdown",
   "metadata": {},
   "source": [
    "# Newton's method\n",
    "I implement Newton's method for calculating the roots of an equation"
   ]
  },
  {
   "cell_type": "code",
   "execution_count": 69,
   "metadata": {},
   "outputs": [],
   "source": [
    "import numpy as np\n",
    "import matplotlib.pyplot as plt\n",
    "%matplotlib inline"
   ]
  },
  {
   "cell_type": "markdown",
   "metadata": {},
   "source": [
    "Below I create functions (def) of the functions as well as their derivatives."
   ]
  },
  {
   "cell_type": "code",
   "execution_count": 70,
   "metadata": {},
   "outputs": [
    {
     "data": {
      "text/plain": [
       "557857"
      ]
     },
     "execution_count": 70,
     "metadata": {},
     "output_type": "execute_result"
    }
   ],
   "source": [
    "x = np.linspace(-10,10,100)  ##  First create x data points to be inserted into the y functions\n",
    "\n",
    "# y(x) is a function\n",
    "def y(x):\n",
    "    return 13500*x**2-2481*x -660.75\n",
    "# y_der is the derivative of the y-function\n",
    "def y_der(x):\n",
    "    return 27000*x - 2481\n",
    "#y2 is a function\n",
    "def y2(x):\n",
    "    return 28000*x**2 - 2143.3*x -448\n",
    "# y2_der is the derivative of y2\n",
    "def y2_der(x):\n",
    "    return 56000*x - 2143\n",
    "\n",
    "y2_der(10)"
   ]
  },
  {
   "cell_type": "markdown",
   "metadata": {},
   "source": [
    "Below I plot the function and then based on xlim and ylim, I zoom into the region where the curve cuts the graph\n",
    "which indicates the roots of the equation.\n",
    "However, I plan to use Newton's method so that I can numerically estimate the roots.\n",
    "So from the figure, I can see that the roots for the function \"y(x)\" are approximately -0.15 and 0.3.  Let's see what \n",
    "Newton's method calculates"
   ]
  },
  {
   "cell_type": "code",
   "execution_count": 75,
   "metadata": {
    "scrolled": false
   },
   "outputs": [
    {
     "data": {
      "image/png": "[encoded data removed]",
      "text/plain": [
       "<Figure size 432x288 with 1 Axes>"
      ]
     },
     "metadata": {},
     "output_type": "display_data"
    }
   ],
   "source": [
    "xlim = 1\n",
    "ylim = 1\n",
    "\n",
    "plt.plot(x,y(x))\n",
    "plt.xlim(-xlim,xlim)\n",
    "plt.ylim(-ylim, ylim)\n",
    "plt.grid(1)\n"
   ]
  },
  {
   "cell_type": "markdown",
   "metadata": {},
   "source": [
    "A function called \"newtons\" is presented below. <br> The arguments are: <br>\n",
    "**x_start** =  initial x value to begin the iterations <br>\n",
    "**delta**  = the difference between xn+1 and xn.  The code stops iterating when delta is sufficiently small, which means we have found our x intercept (root)"
   ]
  },
  {
   "cell_type": "code",
   "execution_count": 78,
   "metadata": {},
   "outputs": [],
   "source": [
    "def newtons(x_start, delta):\n",
    "    diff = 2*delta\n",
    "    xold = x_start\n",
    "    while diff > delta:\n",
    "        xnew = xold - y(xold)/y_der(xold)\n",
    "        diff = abs(xnew-xold)\n",
    "        xold = xnew\n",
    "    return print('The solution is {}.' .format(xold))\n",
    "        \n",
    "        \n"
   ]
  },
  {
   "cell_type": "markdown",
   "metadata": {},
   "source": [
    "Here we see that if we choose a value to the right of the right-most root, then Newtons calculates a root of 0.33"
   ]
  },
  {
   "cell_type": "code",
   "execution_count": 83,
   "metadata": {
    "scrolled": false
   },
   "outputs": [
    {
     "name": "stdout",
     "output_type": "stream",
     "text": [
      "The solution is 0.33144684130207525.\n"
     ]
    }
   ],
   "source": [
    "newtons(6, 0.0001)"
   ]
  },
  {
   "cell_type": "markdown",
   "metadata": {},
   "source": [
    "Here we see that if we choose a value to the left of the left-most root, then Newtons calculates a root of -0.147"
   ]
  },
  {
   "cell_type": "code",
   "execution_count": 84,
   "metadata": {},
   "outputs": [
    {
     "name": "stdout",
     "output_type": "stream",
     "text": [
      "The solution is -0.14766906306786917.\n"
     ]
    }
   ],
   "source": [
    "newtons(-2, 0.0001)"
   ]
  },
  {
   "cell_type": "markdown",
   "metadata": {},
   "source": [
    "The above code is written with specific functions written out manually.  Also, the derivatives are written out manually.\n",
    "A very good improvement on this code is to ask the user to insert a function and then write code to numerically calculate the derivative of the function and then implement Newton's method."
   ]
  }
 ],
 "metadata": {
  "kernelspec": {
   "display_name": "Python 3",
   "language": "python",
   "name": "python3"
  },
  "language_info": {
   "codemirror_mode": {
    "name": "ipython",
    "version": 3
   },
   "file_extension": ".py",
   "mimetype": "text/x-python",
   "name": "python",
   "nbconvert_exporter": "python",
   "pygments_lexer": "ipython3",
   "version": "3.6.5"
  }
 },
 "nbformat": 4,
 "nbformat_minor": 2
}
