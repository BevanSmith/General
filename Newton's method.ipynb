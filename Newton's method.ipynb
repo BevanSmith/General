{
 "cells": [
  {
   "cell_type": "code",
   "execution_count": 60,
   "metadata": {},
   "outputs": [],
   "source": [
    "import numpy as np\n",
    "import matplotlib.pyplot as plt\n",
    "%matplotlib inline"
   ]
  },
  {
   "cell_type": "code",
   "execution_count": 63,
   "metadata": {},
   "outputs": [
    {
     "data": {
      "text/plain": [
       "557857"
      ]
     },
     "execution_count": 63,
     "metadata": {},
     "output_type": "execute_result"
    }
   ],
   "source": [
    "x = np.linspace(-10,10,100)\n",
    "def y(x):\n",
    "    return 13500*x**2-2481*x -660.75\n",
    "def y_der(x):\n",
    "    return 27000*x - 2481\n",
    "\n",
    "def y2(x):\n",
    "    return 28000*x**2 - 2143.3*x -448\n",
    "def y2_der(x):\n",
    "    return 56000*x - 2143\n",
    "\n",
    "y2_der(10)"
   ]
  },
  {
   "cell_type": "code",
   "execution_count": 12,
   "metadata": {},
   "outputs": [
    {
     "data": {
      "text/plain": [
       "(100,)"
      ]
     },
     "execution_count": 12,
     "metadata": {},
     "output_type": "execute_result"
    }
   ],
   "source": [
    "y2(x).shape"
   ]
  },
  {
   "cell_type": "code",
   "execution_count": 62,
   "metadata": {
    "scrolled": false
   },
   "outputs": [
    {
     "data": {
      "text/plain": [
       "(-0.1, 0.1)"
      ]
     },
     "execution_count": 62,
     "metadata": {},
     "output_type": "execute_result"
    },
    {
     "data": {
      "image/png": "[encoded data removed]",
      "text/plain": [
       "<Figure size 432x288 with 1 Axes>"
      ]
     },
     "metadata": {},
     "output_type": "display_data"
    }
   ],
   "source": [
    "plt.plot(x,y(x))\n",
    "plt.xlim(-0.5,0.5)\n",
    "plt.ylim(-0.1,0.1)\n",
    "\n"
   ]
  },
  {
   "cell_type": "code",
   "execution_count": 68,
   "metadata": {},
   "outputs": [
    {
     "name": "stdout",
     "output_type": "stream",
     "text": [
      "The solution is 0.17042781683670483.\n"
     ]
    }
   ],
   "source": [
    "def newtons(x_start, delta):\n",
    "    diff = 2*delta\n",
    "    xold = x_start\n",
    "    while diff > delta:\n",
    "        xnew = xold - y2(xold)/y2_der(xold)\n",
    "        diff = abs(xnew-xold)\n",
    "        xold = xnew\n",
    "    return print('The solution is {}.' .format(xold))\n",
    "        \n",
    "        \n",
    "newtons(6, 0.0001)"
   ]
  }
 ],
 "metadata": {
  "kernelspec": {
   "display_name": "Python 3",
   "language": "python",
   "name": "python3"
  },
  "language_info": {
   "codemirror_mode": {
    "name": "ipython",
    "version": 3
   },
   "file_extension": ".py",
   "mimetype": "text/x-python",
   "name": "python",
   "nbconvert_exporter": "python",
   "pygments_lexer": "ipython3",
   "version": "3.6.5"
  }
 },
 "nbformat": 4,
 "nbformat_minor": 2
}
